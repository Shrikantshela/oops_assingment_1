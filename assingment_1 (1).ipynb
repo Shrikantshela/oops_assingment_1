{
 "cells": [
  {
   "cell_type": "code",
   "execution_count": null,
   "id": "e920abe5-6bf8-4f0f-860c-f0fb6d1219aa",
   "metadata": {},
   "outputs": [],
   "source": [
    "[1]# Who developed python programming language ?\n",
    "ans:-python programming language developed Guido Van Rossum."
   ]
  },
  {
   "cell_type": "code",
   "execution_count": null,
   "id": "4bae0ee3-ab21-430e-91e8-ac9950a54123",
   "metadata": {},
   "outputs": [],
   "source": [
    "[2]# which type of programming does python support ?\n",
    "ans:-python support object-orinted programming and structured programming."
   ]
  },
  {
   "cell_type": "code",
   "execution_count": null,
   "id": "d7dbaca6-111f-4b0a-96a9-44bfdf80eab9",
   "metadata": {},
   "outputs": [],
   "source": [
    "[3]# Is python case sensative when dealing with identifiers?\n",
    "ans:-python case sensative language. it treats uppercase and lowercase character diffrently. This applies to identifiers too\n",
    "you must avoid using the same with diffrent cases while naming identifirs. it is always good to use names that are more easily understood."
   ]
  },
  {
   "cell_type": "code",
   "execution_count": null,
   "id": "4602de7d-4259-4c83-95d2-01c71bc54cae",
   "metadata": {},
   "outputs": [],
   "source": [
    "[4]#what is the correct extention of the python file ?\n",
    "ans:-the python correct extention is .py ."
   ]
  },
  {
   "cell_type": "code",
   "execution_count": null,
   "id": "ec60921d-8582-4416-b5fc-9a64275695f3",
   "metadata": {},
   "outputs": [],
   "source": [
    "[5]# is python code compiled or intepreted ?\n",
    "ans:-python code is an interpreted code,whis means that sourse code of a program is converted into byte code that is then executed by the \n",
    "     python virtual machine ."
   ]
  },
  {
   "cell_type": "code",
   "execution_count": null,
   "id": "57a1a301-14a7-4eb0-8e9f-aad15b627be1",
   "metadata": {},
   "outputs": [],
   "source": [
    "[6]# name a few blocks of a code used to defined in python language .\n",
    "ans:-a module, a function body, and a class definition. Each command typed interactively is a block. \n",
    "     A script file (a file given as standard input to the interpreter or specified as a command line argument to the interpreter) is a code block."
   ]
  },
  {
   "cell_type": "code",
   "execution_count": null,
   "id": "e1121295-fc22-46ad-9927-b9fddfcf75a7",
   "metadata": {},
   "outputs": [],
   "source": [
    "[7]# state a character used to give single-line comment in python?\n",
    "ans:-We can write a single-line comment by adding a single #character before any statement or line of code."
   ]
  },
  {
   "cell_type": "code",
   "execution_count": null,
   "id": "9dc513f8-f93a-4c3a-aa2d-15f600f09c36",
   "metadata": {},
   "outputs": [],
   "source": [
    "[8]# mention the functions which can help us to find the versions of python that we are currently working on?\n",
    "ans:-The function sys. version can help us to find the version of python that we are currently working on. \n",
    "It also contains information on the build number and compiler used. For example, 3.5."
   ]
  },
  {
   "cell_type": "code",
   "execution_count": null,
   "id": "8ab0b662-5857-45b3-a006-2d0ef042e3a7",
   "metadata": {},
   "outputs": [],
   "source": [
    "[9]# python support the creation of anonymous function at runtime, using a construct called -----------\n",
    "ans:-Python supports to make anonymous functions which are not bound to a name(@ runtime). It uses a construct called \"lambda\" ."
   ]
  },
  {
   "cell_type": "code",
   "execution_count": null,
   "id": "bdefba92-255f-49ec-8f06-8ebd35bf75c2",
   "metadata": {},
   "outputs": [],
   "source": [
    "[10] #If PIP is installed correctly, we will see a message indicating the version of PIP and its location on the local system, like the following: pip 22.0.2 from C:\\Users\\Utente\\AppData\\Local\\Programs\\Python\\Python310\\lib\\site-packages\\pip (python 3.10) \n",
    "ans:-If PIP is installed correctly, we will see a message indicating the version of PIP and its location on the local system,\n",
    "like the following: pip 22.0.2 from C:\\Users\\Utente\\AppData\\Local\\Programs\\Python\\Python310\\lib\\site-packages\\pip (python 3.10) "
   ]
  },
  {
   "cell_type": "code",
   "execution_count": null,
   "id": "19f69457-79d5-474e-9d23-630016a20fb3",
   "metadata": {},
   "outputs": [],
   "source": [
    "[11]#mention a few build-in functions in python \n",
    "ans:-print( ) function.\n",
    "type( ) function.\n",
    "input( ) function.\n",
    "abs( ) function.\n",
    "pow( ) function.\n",
    "dir( ) function.\n",
    "sorted( ) function.\n",
    "max( ) function."
   ]
  },
  {
   "cell_type": "code",
   "execution_count": null,
   "id": "3f236059-c61c-46f4-af04-e6289babc454",
   "metadata": {},
   "outputs": [],
   "source": [
    "[12]#An identifier can have a maximum length of 79 characters in Python. Python is one of the most popular programming languages.\n",
    "ans:-An identifier can have a maximum length of 79 characters in Python. Python is one of the most popular programming languages."
   ]
  },
  {
   "cell_type": "code",
   "execution_count": null,
   "id": "768673ed-7b6c-48b6-870f-e330dbb90294",
   "metadata": {},
   "outputs": [],
   "source": [
    "[13]#what are the benifits using python?\n",
    "ans:-Large developer community. Python is one of the most popular programming languages in the world. ...\n",
    "Extensive libraries. Python offers a wide range of libraries that can be used across various applications. ...\n",
    "Write less, do more. Python has very concise syntax. ...\n",
    "Portability. ...\n",
    "Wide range of use cases."
   ]
  },
  {
   "cell_type": "code",
   "execution_count": null,
   "id": "0c8982cd-d58a-4555-b7f6-46b7d91e0809",
   "metadata": {},
   "outputs": [],
   "source": [
    "[14]#how is the memory managed in the python?\n",
    "ans:-Memory management operates at three levels: hardware, operating system and program/application. \n",
    "The management capabilities at each level work together to optimize memory availability and efficiency.\n",
    "Memory management at the hardware level."
   ]
  },
  {
   "cell_type": "code",
   "execution_count": null,
   "id": "a777b95d-3d84-4dc2-af6d-2e27fff68716",
   "metadata": {},
   "outputs": [],
   "source": [
    "[15]#how to install python on windows and set path variables?\n",
    "ans:-1]Right-clicking This PC and going to Properties.\n",
    "2]Clicking on the Advanced system settings in the menu on the left.\n",
    "3]Clicking on the Environment Variables button o​n the bottom right.\n",
    "4]In the System variables section, selecting the Path variable and clicking on Edit."
   ]
  },
  {
   "cell_type": "code",
   "execution_count": null,
   "id": "71000a8c-4614-4973-8867-3a0a7ad0461c",
   "metadata": {},
   "outputs": [],
   "source": [
    "[16]#Is indentation required in python?\n",
    "ans:-Where in other programming languages the indentation in code is for readability only,\n",
    "the indentation in Python is very important. Python uses indentation to indicate a block of code."
   ]
  },
  {
   "cell_type": "code",
   "execution_count": 1,
   "id": "e5441080-e298-4846-8d73-e4679a3d2a4a",
   "metadata": {},
   "outputs": [
    {
     "data": {
      "text/plain": [
       "True"
      ]
     },
     "execution_count": 1,
     "metadata": {},
     "output_type": "execute_result"
    }
   ],
   "source": [
    "\"pwskills\"[::-1].upper().replace(\"SLLIKSWP\", \"pwskills\").islower()"
   ]
  },
  {
   "cell_type": "code",
   "execution_count": 2,
   "id": "3f1a0442-1621-46ff-8f96-d3ff0390dfbf",
   "metadata": {},
   "outputs": [
    {
     "data": {
      "text/plain": [
       "'p w s k i l l s'"
      ]
     },
     "execution_count": 2,
     "metadata": {},
     "output_type": "execute_result"
    }
   ],
   "source": [
    "string = \"p w s k i l l s\"\n",
    "\n",
    "\" \".join(string.replace(\" \", \"\"))"
   ]
  },
  {
   "cell_type": "code",
   "execution_count": null,
   "id": "09bd7fb9-1d3c-4a3c-a63e-a7589af765d8",
   "metadata": {},
   "outputs": [],
   "source": []
  },
  {
   "cell_type": "code",
   "execution_count": null,
   "id": "2c850e38-0614-4383-b50a-60ec099726fa",
   "metadata": {},
   "outputs": [],
   "source": []
  }
 ],
 "metadata": {
  "kernelspec": {
   "display_name": "Python 3 (ipykernel)",
   "language": "python",
   "name": "python3"
  },
  "language_info": {
   "codemirror_mode": {
    "name": "ipython",
    "version": 3
   },
   "file_extension": ".py",
   "mimetype": "text/x-python",
   "name": "python",
   "nbconvert_exporter": "python",
   "pygments_lexer": "ipython3",
   "version": "3.10.8"
  }
 },
 "nbformat": 4,
 "nbformat_minor": 5
}
